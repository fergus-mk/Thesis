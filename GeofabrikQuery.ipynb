{
 "cells": [
  {
   "cell_type": "code",
   "execution_count": 1,
   "metadata": {},
   "outputs": [],
   "source": [
    "import geopandas as gpd\n",
    "import subprocess\n",
    "import os\n",
    "from os.path import join\n",
    "from shutil import copyfile"
   ]
  },
  {
   "cell_type": "code",
   "execution_count": 2,
   "metadata": {},
   "outputs": [
    {
     "name": "stdout",
     "output_type": "stream",
     "text": [
      "C:\\Users\\12817031\\AppData\\Local\\conda\\conda\\envs\\extract\\library\\share\\gdal\\osmconf.ini\n"
     ]
    }
   ],
   "source": [
    "fn = join(os.environ['CONDA_PREFIX'], 'library', 'share', 'gdal', 'osmconf.ini')\n",
    "print(fn)"
   ]
  },
  {
   "cell_type": "code",
   "execution_count": 3,
   "metadata": {},
   "outputs": [],
   "source": [
    "continents = ['africa', 'asia', 'antarctica','australia-oceania', 'central-america', 'europe', 'north-america', 'south-america']"
   ]
  },
  {
   "cell_type": "code",
   "execution_count": 4,
   "metadata": {},
   "outputs": [],
   "source": [
    "for continent in continents:  \n",
    "    name = continent  \n",
    "    fn_in = f'{name}-latest.osm.pbf' # input filename\n",
    "    fn_out = f'{name}-select.gpkg' # output filename\n",
    "    layer = 'lines' # see options in step 1\n",
    "    select = [\n",
    "        \"man_made in ('dyke', 'embankment', 'levee')\"\n",
    "        \" OR embankment in ('levee', 'dyke')\"\n",
    "        \" OR waterway in ('dyke')\"\n",
    "        \" OR meadow in ('dyke')\"\n",
    "    #     \" OR tiger:name_base in ('Levee', 'Dyke')\" # the colon raises an error - put as a string\n",
    "    ]\n",
    "    where = ' '.join([f'-where \"{sel}\"' for sel in select])\n",
    "    cli = f'ogr2ogr -f \"GPKG\" {where} {fn_out} {fn_in} {layer}' # put command together\n",
    "    subprocess.call(cli)"
   ]
  },
  {
   "cell_type": "code",
   "execution_count": 10,
   "metadata": {},
   "outputs": [
    {
     "name": "stdout",
     "output_type": "stream",
     "text": [
      "africa-select.gpkg\n",
      "osm_id             2572\n",
      "name                 31\n",
      "waterway            179\n",
      "barrier              29\n",
      "man_made           2572\n",
      "embankment           60\n",
      "meadow                0\n",
      "tiger_name_base       0\n",
      "z_order            2572\n",
      "other_tags          513\n",
      "geometry           2572\n",
      "dtype: int64\n",
      "asia-select.gpkg\n",
      "osm_id             17220\n",
      "name                 743\n",
      "waterway             128\n",
      "barrier              173\n",
      "man_made           17211\n",
      "embankment          1295\n",
      "meadow                 0\n",
      "tiger_name_base        0\n",
      "z_order            17220\n",
      "other_tags          2283\n",
      "geometry           17220\n",
      "dtype: int64\n"
     ]
    }
   ],
   "source": [
    "for i in continents:\n",
    "    i = f'{i}-select.gpkg' # output filename\n",
    "    print(i)\n",
    "    gpd.read_file(i, rows=10)\n",
    "    name = gpd.read_file(i)\n",
    "    print(name.count())\n"
   ]
  }
 ],
 "metadata": {
  "kernelspec": {
   "display_name": "Python 3",
   "language": "python",
   "name": "python3"
  },
  "language_info": {
   "codemirror_mode": {
    "name": "ipython",
    "version": 3
   },
   "file_extension": ".py",
   "mimetype": "text/x-python",
   "name": "python",
   "nbconvert_exporter": "python",
   "pygments_lexer": "ipython3",
   "version": "3.6.12"
  }
 },
 "nbformat": 4,
 "nbformat_minor": 4
}
